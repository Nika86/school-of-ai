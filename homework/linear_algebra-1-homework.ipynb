{
 "cells": [
  {
   "cell_type": "markdown",
   "metadata": {},
   "source": [
    "# Set theory basics"
   ]
  },
  {
   "cell_type": "markdown",
   "metadata": {},
   "source": [
    "#### Prove that:\n",
    "<br>\n",
    "$A \\subseteq A$"
   ]
  },
  {
   "cell_type": "markdown",
   "metadata": {},
   "source": [
    "##### Proof:\n",
    "$\\forall x : x \\in A \\Rightarrow x \\in A$"
   ]
  },
  {
   "cell_type": "markdown",
   "metadata": {},
   "source": [
    "#### Prove that:\n",
    "<br>\n",
    "If $A \\subseteq B$ and $B \\subseteq A$ $\\to$ $A = B$"
   ]
  },
  {
   "cell_type": "markdown",
   "metadata": {},
   "source": [
    "##### Proof:\n",
    "$(\\forall x : x \\in A \\Rightarrow x \\in B) \\wedge (\\forall x : x \\in B \\Rightarrow x \\in A) \\Rightarrow \\forall x : x \\in A \\Leftrightarrow x \\in B$"
   ]
  },
  {
   "cell_type": "markdown",
   "metadata": {},
   "source": [
    "#### Prove that:\n",
    "<br>\n",
    "if $B \\subset A$ then $A \\cap B = B$"
   ]
  },
  {
   "cell_type": "markdown",
   "metadata": {},
   "source": [
    "##### Proof:\n",
    "$\n",
    "(x \\in A \\cap B) \\Rightarrow (x \\in A \\wedge a \\in B) \\Rightarrow (x \\in B) \\\\\n",
    "((x \\in B) \\wedge (B \\subset A)) \\Rightarrow (x \\in B \\wedge x \\in A) \\Rightarrow (x \\in A \\cap B)\n",
    "$"
   ]
  },
  {
   "cell_type": "markdown",
   "metadata": {},
   "source": [
    "#### Prove that:\n",
    "<br>\n",
    "$A \\cap B = B \\cap A$"
   ]
  },
  {
   "cell_type": "markdown",
   "metadata": {},
   "source": [
    "##### Proof:\n",
    "$\n",
    "x \\in A \\cap B \\Leftrightarrow (x \\in A \\wedge x \\in B) \\Leftrightarrow (x \\in B \\wedge x \\in A) \\Leftrightarrow x \\in B \\cap A\n",
    "$"
   ]
  },
  {
   "cell_type": "markdown",
   "metadata": {},
   "source": [
    "#### Prove that:\n",
    "<br>\n",
    "if $B \\subset A$ then $A \\cup B = A$"
   ]
  },
  {
   "cell_type": "markdown",
   "metadata": {},
   "source": [
    "##### Proof:\n",
    "\n",
    "$\\forall x : (x \\in A) \\Rightarrow (x \\in A) \\vee (x \\in B) \\Rightarrow x \\in (A \\cup B)$\n",
    "\n",
    "Also, $B \\subset A \\Rightarrow \\forall x : (x \\in B) \\Rightarrow (x \\in A)$, Thus $\\forall x : x \\in (A \\cup B) \\Rightarrow (x \\in A) \\vee (x \\in B) \\Rightarrow (x \\in A) \\vee (x \\in A) \\Rightarrow x \\in A$\n",
    "\n"
   ]
  },
  {
   "cell_type": "markdown",
   "metadata": {},
   "source": [
    "#### Prove that:\n",
    "<br>\n",
    "$A \\cup B = B \\cup A$"
   ]
  },
  {
   "cell_type": "markdown",
   "metadata": {},
   "source": [
    "##### Proof:\n",
    "$\n",
    "x \\in A \\cup B \\Leftrightarrow (x \\in A \\vee x \\in B) \\Leftrightarrow (x \\in B \\vee x \\in A) \\Leftrightarrow x \\in B \\cup A\n",
    "$"
   ]
  },
  {
   "cell_type": "markdown",
   "metadata": {},
   "source": [
    "#### Prove that:\n",
    "- for every injection $m:A \\to B$ and pair of functions $f, g :C \\to A$: if $m \\circ f = m \\circ g$ then $f = g$ and vice-versa\n",
    "- for every surjection $e:A \\to B$ and every pair of functions $f, g :B \\to C$: if $f \\circ e = g \\circ e$ then $f = g$ and vice-versa"
   ]
  },
  {
   "cell_type": "markdown",
   "metadata": {},
   "source": [
    "##### Proof:\n",
    "\n",
    "###### Part 1\n",
    "$\\forall x \\in C: (m \\circ f)(x) = (m \\circ g)(x) \\Rightarrow m(f(x)) = m(g(x))$. Since $m$ is an injection $m(f(x)) = m(g(x)) \\Rightarrow f(x) = g(x)$\n",
    "\n",
    "###### Part 2\n",
    "$\\forall y \\in B : \\exists x \\in A : e(x) = y$, and $(f \\circ e)(x) = (g \\circ e)(x) \\Rightarrow f(e(x)) = g(e(x)) \\Rightarrow f(y) = g(y)$"
   ]
  },
  {
   "cell_type": "markdown",
   "metadata": {},
   "source": [
    "#### Prove that \n",
    "- composition of injections is injection itself\n",
    "- composition of surjections is surjection itself\n",
    "- composition of bijections is bijection itself\n",
    "<br>\n",
    "or give a counterexamples"
   ]
  },
  {
   "cell_type": "markdown",
   "metadata": {},
   "source": [
    "##### Proof:\n",
    "\n",
    "###### Part 1\n",
    "\n",
    "$\\forall x_1, x_2: f(x_1) = f(x_2) \\Rightarrow x_1 = x_2$ and $\\forall y_1, y_2: g(y_1) = g(y_2) \\Rightarrow y_1 = y_2$\n",
    "\n",
    "$(g \\circ f)(x_1) = (g \\circ f)(x_2) \\Rightarrow g(f(x_1)) = g(f(x_2)) \\Rightarrow f(x_1) = f(x_2) \\Rightarrow x_1 = x_2$\n",
    "\n",
    "###### Part 2\n",
    "\n",
    "$(\\forall y \\exists x: f(x) = y) \\wedge (\\forall z \\exists y: g(y) = z)$\n",
    "\n",
    "$\\forall z \\exists y \\exists x: (f(x) = y) \\wedge (g(y) = z) \\Rightarrow (g \\circ f)(x) = g(f(x)) = g(y) = z$\n",
    "\n",
    "###### Part 3\n",
    "\n",
    "Follows directly from parts 1 and 2"
   ]
  },
  {
   "cell_type": "markdown",
   "metadata": {},
   "source": [
    "#### Prove that for each set $A$:\n",
    "- $A \\cong A$\n",
    "- if $B \\cong A$ then $B \\cong A$ for every pair of sets $A$ and $B$\n",
    "- if $A \\cong B$ and $B \\cong C$ then $A \\cong C$ for every triplet $A$, $B$ and $C$"
   ]
  },
  {
   "cell_type": "markdown",
   "metadata": {},
   "source": [
    "##### Proof:\n",
    "- $f(x) = x$ is a bijection $f:A \\rightarrow A$\n",
    "- Since inverse of a bijection is a bijection\n",
    "- Since composition of bijections is a bijection"
   ]
  },
  {
   "cell_type": "markdown",
   "metadata": {},
   "source": [
    "#### Prove that:\n",
    "<br>\n",
    "there exists a bijection between set of natural and even numbers"
   ]
  },
  {
   "cell_type": "markdown",
   "metadata": {},
   "source": [
    "##### Proof:\n",
    "\n",
    "Bijection: $f(n) = 2 n$"
   ]
  },
  {
   "cell_type": "markdown",
   "metadata": {},
   "source": [
    "#### Prove that:\n",
    "<br>\n",
    "if we have a bijection between two finite sets than they have an equal number of elements"
   ]
  },
  {
   "cell_type": "markdown",
   "metadata": {},
   "source": [
    "##### Proof:\n",
    "\n",
    "$(\\{1, 2, \\dots n\\} \\cong A) \\wedge (A \\cong B) \\Rightarrow \\{1, 2, \\dots n\\} \\cong B$"
   ]
  },
  {
   "cell_type": "markdown",
   "metadata": {},
   "source": [
    "#### Prove that:\n",
    "<br>\n",
    "$A \\times B \\cong B \\times A$"
   ]
  },
  {
   "cell_type": "markdown",
   "metadata": {},
   "source": [
    "##### Proof:\n",
    "\n",
    "Bijection: $f((a, b)) = (b, a)$"
   ]
  },
  {
   "cell_type": "markdown",
   "metadata": {},
   "source": [
    "$\\cap_{i\\in I}A_i$ and $\\cup_{i\\in I}A_i$"
   ]
  },
  {
   "cell_type": "code",
   "execution_count": null,
   "metadata": {},
   "outputs": [],
   "source": [
    "# Implement in python\n",
    "\n",
    "def intersection(initialSet, *setList):\n",
    "    return initialSet.intersection(*setList)\n",
    "\n",
    "def intersectionElementary(initialSet, *setList):\n",
    "    res = initialSet\n",
    "    for s in setList:\n",
    "        res = {e for e in res if e in s}\n",
    "    return res\n",
    "\n",
    "def union(*setList):\n",
    "    return set().union(*setList)\n",
    "\n",
    "def unionElementary(*setList):\n",
    "    res = set()\n",
    "    for s in setList:\n",
    "        for e in s:\n",
    "            res.add(e)\n",
    "    return res"
   ]
  },
  {
   "cell_type": "markdown",
   "metadata": {},
   "source": [
    "We can also define cartesian product of any \"number\" of sets $\\prod_{i \\in I}{A_i}$"
   ]
  },
  {
   "cell_type": "code",
   "execution_count": null,
   "metadata": {},
   "outputs": [],
   "source": [
    "# Implement in python\n",
    "\n",
    "def cartProductLists(*setList):\n",
    "    if len(setList) == 0:\n",
    "        return [[]]\n",
    "    \n",
    "    prev = cartProductLists(*setList[:-1])\n",
    "    return [x + [y] for x in prev for y in setList[-1]]\n",
    "    \n",
    "\n",
    "def cartProduct(*setList):\n",
    "    return set([tuple(x) for x in cartProductLists(*setList)])"
   ]
  },
  {
   "cell_type": "markdown",
   "metadata": {},
   "source": [
    "#### Prove that:\n",
    "<br>\n",
    "$$A \\cap (B \\cup C)=(A \\cap B) \\cup (A\\cap C)$$\n",
    "$$A \\cup (B \\cap C)=(A \\cup B) \\cap (A\\cup C)$$"
   ]
  },
  {
   "cell_type": "markdown",
   "metadata": {},
   "source": [
    "##### Proof:\n",
    "- $\n",
    "x \\in A \\cap (B \\cup C) \\Leftrightarrow (x \\in A) \\wedge (x \\in (B \\cup C)) \\Leftrightarrow (x \\in A) \\wedge (x \\in B \\vee x \\in C) \\Leftrightarrow \\\\ \\Leftrightarrow (x \\in A \\wedge x \\in B) \\vee (x \\in A \\wedge x \\in C) \\Leftrightarrow x \\in (A \\cap B) \\cup (A \\cap C)\n",
    "$\n",
    "\n",
    "- $\n",
    "x \\in A \\cup (B \\cap C) \\Leftrightarrow (x \\in A) \\vee (x \\in (B \\cap C)) \\Leftrightarrow (x \\in A) \\vee (x \\in B \\wedge x \\in C) \\Leftrightarrow \\\\ \\Leftrightarrow (x \\in A \\vee x \\in B) \\wedge (x \\in A \\vee x \\in C) \\Leftrightarrow x \\in (A \\cup B) \\cap (A \\cup C)\n",
    "$\n",
    "\n",
    "Distributivity of $\\wedge$ and $\\vee$ with respect to each other can be proven using truth tables"
   ]
  },
  {
   "cell_type": "markdown",
   "metadata": {},
   "source": [
    "# Linear Algebra"
   ]
  },
  {
   "cell_type": "markdown",
   "metadata": {},
   "source": [
    "#### Prove that:\n",
    "<br>\n",
    "$(AB)^{T} = B^{T}A^{T}$ for each pair of matrices $A, B \\in \\mathbb{R}^{n \\times m}$"
   ]
  },
  {
   "cell_type": "markdown",
   "metadata": {},
   "source": [
    "##### Proof:\n",
    "\n",
    "$(A B)^T_{i, j} = (A B)_{j, i} = \\sum_k A_{j, k} B_{k, i} = \\sum_k B^T_{i, k} A^T_{k, j} = (B^T A^T)_{i, j}$"
   ]
  },
  {
   "cell_type": "markdown",
   "metadata": {},
   "source": [
    "## Functions on tensors"
   ]
  },
  {
   "cell_type": "markdown",
   "metadata": {},
   "source": [
    "#### Write combination for $XOR$ calculation"
   ]
  },
  {
   "cell_type": "code",
   "execution_count": null,
   "metadata": {},
   "outputs": [],
   "source": [
    "import numpy as np\n",
    "import math\n",
    "sig = np.vectorize(lambda x: 1 / (1 + math.exp(-x)))\n",
    "\n",
    "neurAnd = lambda _X : sig(np.array([10.0, 10.0]) @ _X + np.array([-15.0]))\n",
    "neurOr = lambda _X : sig(np.array([10.0, 10.0]) @ _X + np.array([-5.0]))\n",
    "neurXor = lambda _X : sig(np.array([10.0, -10.0]) @ np.array([neurOr(_X), neurAnd(_X)]) + np.array([-5.0]))"
   ]
  }
 ],
 "metadata": {
  "kernelspec": {
   "display_name": "Python 3",
   "language": "python",
   "name": "python3"
  },
  "language_info": {
   "codemirror_mode": {
    "name": "ipython",
    "version": 3
   },
   "file_extension": ".py",
   "mimetype": "text/x-python",
   "name": "python",
   "nbconvert_exporter": "python",
   "pygments_lexer": "ipython3",
   "version": "3.6.8"
  }
 },
 "nbformat": 4,
 "nbformat_minor": 4
}
