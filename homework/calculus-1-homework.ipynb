{
 "cells": [
  {
   "cell_type": "code",
   "execution_count": null,
   "metadata": {},
   "outputs": [],
   "source": [
    "%load_ext autoreload\n",
    "%autoreload 2\n",
    "\n",
    "%matplotlib inline"
   ]
  },
  {
   "cell_type": "markdown",
   "metadata": {},
   "source": [
    "## Basic setup"
   ]
  },
  {
   "cell_type": "markdown",
   "metadata": {},
   "source": [
    "Create anaconda environment\n",
    "<br>\n",
    "```bash\n",
    "conda create -n ml python=3.7.4 jupyter\n",
    "```\n",
    "Install fastai library\n",
    "<br>\n",
    "```bash\n",
    "conda install -c pytorch -c fastai fastai\n",
    "```"
   ]
  },
  {
   "cell_type": "code",
   "execution_count": null,
   "metadata": {},
   "outputs": [],
   "source": [
    "!pip install https://github.com/ipython-contrib/jupyter_contrib_nbextensions/tarball/master\n",
    "!pip install jupyter_nbextensions_configurator\n",
    "!jupyter contrib nbextension install --user\n",
    "!jupyter nbextensions_configurator enable --user"
   ]
  },
  {
   "cell_type": "markdown",
   "metadata": {},
   "source": [
    "# Metric spaces"
   ]
  },
  {
   "cell_type": "markdown",
   "metadata": {},
   "source": [
    "#### Prove that:\n",
    "For every metric space (X, d):\n",
    "- For any $\\mathcal{U} = \\{U | U$ is open in $(X, d)\\}$ holds $\\bigcup_{U \\in \\mathcal{U}} U$ is open in $(X, d)$\n",
    "- For any two $U, V \\subset X$ open in $(X, d)$ holds: $U \\cap V$ is open in $(X, d)$\n",
    "- $X$ is open in $(X, d)$\n",
    "- $\\emptyset$ is open in $(X, d)$"
   ]
  },
  {
   "cell_type": "markdown",
   "metadata": {},
   "source": [
    "##### Proof:\n",
    "\n",
    "- $(x \\in \\bigcup_{U \\in \\mathcal{U}} U) \\Rightarrow (\\exists U_x \\in \\mathcal{U} : x \\in U_x) \\Rightarrow (B(x, r) \\subset U_x) \\Rightarrow (B(x, r) \\subset \\bigcup_{U \\in \\mathcal{U}} U)$\n",
    "\n",
    "- $x \\in (U \\cap V) \\Rightarrow (x \\in U \\wedge x \\in V) \\Rightarrow (\\exists r_1, r_2 : B(x, r_1) \\subset U \\wedge B(x, r_2) \\subset V) \\Rightarrow B(x, min(r_1, r_2)) \\subset (U \\cap V))$\n",
    "\n",
    "- $(\\forall x \\in X \\forall r : B(x, r) \\subset X) \\Rightarrow (\\forall x \\in X \\exists r : B(x, r) \\subset X)$ (can pick any $r$, e.g. $r = 1$)\n",
    "\n",
    "- $\\forall x \\in \\emptyset$ anything holds true, as there are no elements $x \\in \\emptyset$"
   ]
  },
  {
   "cell_type": "markdown",
   "metadata": {},
   "source": [
    "#### Prove that:\n",
    "- For any finite set $(U)_{i=1}^{n}$ of open sets in $(X, d)$, $\\bigcap_{i=1}^{n}U_i$ is open in $(X, d)$"
   ]
  },
  {
   "cell_type": "markdown",
   "metadata": {},
   "source": [
    "##### Proof:\n",
    "\n",
    "By induction on $n$\n",
    "\n",
    "base case (n = 1):\n",
    "\n",
    "$\\bigcap_{i=1}^1U_i = U_1$ and since $U_1$ is open, so is $\\bigcap_{i=1}^1U_i$\n",
    "\n",
    "inductive step:\n",
    "\n",
    "$\\bigcap_{i=1}^{n+1} U_i = (\\bigcap_{i=1}^n U_i) \\cap U_{n+1}$. First one is open by inductive hypothesis, $U_{n+1}$ is also obviously open. By second part of previous exercise the intersection of these must also be open. Q.E.D"
   ]
  },
  {
   "cell_type": "markdown",
   "metadata": {},
   "source": [
    "#### Prove that for set $U \\subset X$ is open if and only if for each point $x \\in U$ there exists the open neighbourhood $V$ of $x$ such that $V \\subset U$"
   ]
  },
  {
   "cell_type": "markdown",
   "metadata": {},
   "source": [
    "##### Proof:\n",
    "\n",
    "If $U$ is open $\\forall x \\exists B(x, r) \\subset U$ and $B(x, r)$ is an open set s.t. $x \\in B(x, r)$, so it can be taken to be $V$.\n",
    "\n",
    "If $\\forall x \\in U \\exists V : (x \\in V) \\wedge (V \\subset U) \\wedge (V \\text{ is open})$, then by definition $\\exists B(x, r) \\subset V$. $(B(x, r) \\subset V) \\wedge (V \\subset U) \\Rightarrow B(x, r) \\subset U$, which means that $U$ is open.\n"
   ]
  },
  {
   "cell_type": "markdown",
   "metadata": {},
   "source": [
    "#### Prove that, closed ball is closed subset in $(X, d)$\n"
   ]
  },
  {
   "cell_type": "markdown",
   "metadata": {},
   "source": [
    "##### Proof:\n",
    "\n",
    "$C(x_0, r) = \\{ x \\mid d(x, x_0) \\leq r \\}$\n",
    "\n",
    "$\\overline{C(x_0, r)} = \\{ x \\mid d(x, x_0) > r \\}$\n",
    "\n",
    "For each $x \\in \\overline{C(x_0, r)}$ take $d(x_0, x) - r = r'$ and $B(x, r') \\subset \\overline{C(x_0, r)}$. Thus $\\overline{C(x_0, r)}$ is open and therefore $C(x_0, r)$ is closed."
   ]
  },
  {
   "cell_type": "markdown",
   "metadata": {},
   "source": [
    "#### Prove that\n",
    "For every metric space (X, d):\n",
    "- For any $\\mathcal{F} = \\{F | F$ is closed in $(X, d)\\}$ holds $\\bigcap_{F \\in \\mathcal{F}} F$ is closed in $(X, d)$\n",
    "- For any two $F_1, F_2 \\subset X$ closed in $(X, d)$ holds: $F_1 \\cup F_2$ is closed in $(X, d)$\n",
    "- $X$ is closed in $(X, d)$\n",
    "- $\\emptyset$ is closed in $(X, d)$"
   ]
  },
  {
   "cell_type": "markdown",
   "metadata": {},
   "source": [
    "##### Proof:\n",
    "\n",
    "- $\\bigcap_{F \\in \\mathcal{F}} F = \\overline{(\\bigcup_{F \\in \\mathcal{F}} \\overline{F})}$. Since each $\\overline{F}$ is open, $\\bigcup_{F \\in \\mathcal{F}} \\overline{F}$ is open, so its complement is closed.\n",
    "\n",
    "- $F_1 \\cup F_2 = \\overline{\\overline{F_1} \\cap \\overline{F_2}}$. $\\overline{F_1}$ and $\\overline{F_2}$ are open, so the union is also open. Thus, its complement is closed.\n",
    "\n",
    "- $\\overline{X} = \\emptyset$, which is open\n",
    "\n",
    "- $\\overline{\\emptyset} = X$, which is open"
   ]
  },
  {
   "cell_type": "markdown",
   "metadata": {},
   "source": [
    "#### Prove that:\n",
    "- For any finite set $(F)_{i=1}^{n}$ of closed sets in $(X, d)$, $\\bigcup_{i=1}^{n}F$ is closed in $(X, d)$"
   ]
  },
  {
   "cell_type": "markdown",
   "metadata": {},
   "source": [
    "##### Proof:\n",
    "\n",
    "$\\bigcup_{i = 1}^n F = \\overline{\\bigcap_{i = 1}^n \\overline{F}}$. Since each $\\overline{F}$ is open, so is $\\bigcap_{i = 1}^n \\overline{F}$, and thus its complement is closed."
   ]
  },
  {
   "cell_type": "markdown",
   "metadata": {},
   "source": [
    "#### Prove that, if $F \\subset X$ is closed then $X - F$ is open in $(X, d)$ "
   ]
  },
  {
   "cell_type": "markdown",
   "metadata": {},
   "source": [
    "##### Proof:\n",
    "\n",
    "$X - F$ is the complement of $F$. complement of a closed set is open, so $X - F$ is open."
   ]
  },
  {
   "cell_type": "markdown",
   "metadata": {},
   "source": [
    "# Metrics in Euclidean spaces"
   ]
  },
  {
   "cell_type": "markdown",
   "metadata": {},
   "source": [
    "#### Prove that:\n",
    "- for every $u, v \\in \\mathbb{R}^{n}$: $d(u, v) \\geq 0$\n",
    "- for every $v \\in \\mathbb{R}^{n}$: $d(v, v) = 0$\n",
    "- for every $u, v \\in \\mathbb{R}^{n}$: $d(u, v) = d(v, u)$ (symmetry)\n",
    "- for every $u, v, w \\in \\mathbb{R}^{n}$: $d(u, w) \\leq d(v, u) + d(v, w)$ (triangle inequality)"
   ]
  },
  {
   "cell_type": "markdown",
   "metadata": {},
   "source": [
    "##### Proof:\n",
    "\n",
    "- $d(u, v)$ is a root of sum of squares of real numbers, thus it is non-negative.\n",
    "\n",
    "- $d(v, v) = \\sqrt{(v_1 - v_1)^2 + \\dots + (v_n - v_n)^2} = \\sqrt{0 + \\dots + 0} = \\sqrt{0} = 0$\n",
    "\n",
    "- $d(u, v) = d(v, u)$ since in every term $(v_i - u_i)^2 = (u_i - v_i)^2$\n",
    "\n",
    "- $d(u, w) = \\sqrt{\\sum_i (w_i - u_i)^2} = \\sqrt{\\sum_i (w_i - v_i + v_i - u_i)^2} = \\sqrt{\\sum_i (w_i - v_i)^2 + 2 \\sum_i (w_i - v_i)(v_i - u_i) + \\sum_i (v_i - u_i)^2} \\overset{\\text{by Cauchy-Schwarz}}\\le \\sqrt{d(w, v)^2 + 2 d(w, v) d(v, u) + d(v, u)^2} = \\sqrt{(d(w, v) + d(v, u))^2} = d(w, v) + d(v, u)$"
   ]
  },
  {
   "cell_type": "markdown",
   "metadata": {},
   "source": [
    "#### Prove the same properties hold for $d(u, v) = ||u-v||_1$ ($||u-v||_1 = \\sum_{i = 1}^{n}|u_i - v_i|$)"
   ]
  },
  {
   "cell_type": "markdown",
   "metadata": {},
   "source": [
    "##### Proof:\n",
    "\n",
    "- Sum of absolute values cannot be negative\n",
    "\n",
    "- $d(v, v) = \\sum_i | v_i - v_i | = \\sum_i 0 = 0$\n",
    "\n",
    "- $d(u, v) = d(v, u)$ since $\\forall i : | u_i - v_i | = | v_i - u_i |$\n",
    "\n",
    "- $d(u, w) = \\sum_i | w_i - u_i | = \\sum_i | w_i - v_i + v_i - u_i | \\le \\sum_i | w_i - v_i | + \\sum_i | v_i - u_i | = d(w, v) + d(v, u)$"
   ]
  },
  {
   "cell_type": "markdown",
   "metadata": {},
   "source": [
    "## Sequences and limits"
   ]
  },
  {
   "cell_type": "markdown",
   "metadata": {},
   "source": [
    "#### Prove that $x = \\lim_{n\\to\\infty}{x_n}$ in $(X, d)$ if and only if (iff) for every $r \\in \\mathbb{R}$ there exists $n_0 \\in \\mathbb{N}$ such that: $x_i \\in B(x, r)$ for every $i \\gt n_0$"
   ]
  },
  {
   "cell_type": "markdown",
   "metadata": {},
   "source": [
    "##### Proof:\n",
    "\n",
    "###### Only if:\n",
    "\n",
    "This property needs to old for every open set $U$ by definition, so it must also hold for every $B(x, r)$, which are also open.\n",
    "\n",
    "###### If:\n",
    "\n",
    "$\\forall U : (U \\text{ is open in } (X, d) \\exists r \\in \\mathbb{R} : B(x, r) \\subset U$.\n",
    "\n",
    "Since $\\exists n_0 : (i > n_0) \\Rightarrow (x_i \\in B(x, r))$ and $B(x, r) \\subset U$, We have $\\exists n_0 : (i > n_0) \\Rightarrow (x_i \\in U)$\n"
   ]
  },
  {
   "cell_type": "markdown",
   "metadata": {},
   "source": [
    "#### Prove that if $x = \\lim_{n\\to\\infty}{x_n}$ and $x \\notin \\{-\\infty, \\infty\\}$ then $(x_i)_{i=1}^{\\infty} = (x_1, x_2, \\dots, x_n)$ is a Cauchy sequence\n",
    "<br>\n",
    "Prove that if for closed set $F \\subset \\mathbb{R}^n$ and convergent sequence $(x_i)_{i=1}^{\\infty} = (x_1, x_2, \\dots, x_n)$ there exists $n_0 \\in \\mathbb{N}$ such that $x_i \\in F$ for each $i \\gt n_0$ then: $\\lim_{n\\to\\infty}{x_n} \\in F$"
   ]
  },
  {
   "cell_type": "markdown",
   "metadata": {},
   "source": [
    "##### Proof 1:\n",
    "\n",
    "$\\exists n_0 : i, j > n_0 \\Rightarrow ((x_i - x) < r/2) \\wedge ((x_j - x) < r/2) \\Rightarrow (x_i - x_j < r)$\n",
    "\n",
    "##### Proof 2:\n",
    "\n",
    "Assume otherwise that $x = \\lim_{n\\to\\infty}{x_n} \\in \\overline{F}$. Since $\\overline{F}$ is open $\\exists \\epsilon : (x_i - x) < \\epsilon \\Rightarrow x_i \\in \\overline{F}$, but $(x_i \\to x) \\Rightarrow (\\exists n_0 : i > n_0 \\Rightarrow (x_i - x) < \\epsilon$. Thus, $\\exists n_0 : (i > n_0 \\Rightarrow x \\in \\overline{F}$ which contradicts the statement."
   ]
  },
  {
   "cell_type": "markdown",
   "metadata": {},
   "source": [
    "#### Prove that if $F$ is open from previous example, statement does not hold. "
   ]
  },
  {
   "cell_type": "markdown",
   "metadata": {},
   "source": [
    "##### Proof:\n",
    "\n",
    "This can be done by giving one example:\n",
    "\n",
    "$F = (0, 1), x_k = 1/k, x = 0$"
   ]
  },
  {
   "cell_type": "markdown",
   "metadata": {},
   "source": [
    "#### Prove that inherited metric is a metric"
   ]
  },
  {
   "cell_type": "markdown",
   "metadata": {},
   "source": [
    "##### Proof:\n",
    "\n",
    "The properties required for metric do not depend on the set used."
   ]
  },
  {
   "cell_type": "markdown",
   "metadata": {},
   "source": [
    "## Limits of functions"
   ]
  },
  {
   "cell_type": "markdown",
   "metadata": {},
   "source": [
    "Let $f:S \\to Y$ is function between subset $S \\subset X$ of a metric space $(X, d_x)$ and metric space $(Y, d_Y)$\n",
    "- We say that the limit of function $f:(S, d_x) \\to (Y, d_Y)$ between metric spaces in some limit point $c \\in X$ of the subset $S$ is $y \\in Y $if for each open neighborhood of $y \\in V \\subset Y$ there exists the open seighborhood of $c \\in U \\subset X$ such that $f(U \\cap S) \\subset V$\n",
    "<br>\n",
    "This definition is equiualent of definition:\n",
    "<br>\n",
    "- The limit of function $f:(S, d_X) \\to (Y, d_Y)$ between metric spaces in limit point $c \\in X$ of the subset $S$ is $y \\in Y $ if for each open ball $B(y, r) \\subset Y$ there exists the ball $B(c, l) \\subset X$ such that $f(B(c, l) \\cap S) \\subset B(y, r)$\n",
    "<br>\n",
    "or\n",
    "<br>\n",
    "- The limit of function $f:(S, d_X) \\to (Y, d_Y)$ between metric spaces in limit point $c \\in X$ of subset $S$ is $y \\in Y $ if for any $r \\in \\mathbb{R}$ there exists $l \\in \\mathbb{R}$ such that for every $x \\in S$ with $d_X(x, c) < l$ implies that $d_Y(f(x), y) < r$"
   ]
  },
  {
   "cell_type": "markdown",
   "metadata": {},
   "source": [
    "#### Prove that these three definitions are equiualent for any function between any two metric spaces"
   ]
  },
  {
   "cell_type": "markdown",
   "metadata": {},
   "source": [
    "##### Proof:\n",
    "\n",
    "###### (def. 1) $\\Rightarrow$ (def. 2):\n",
    "\n",
    "Since $B(y, r)$ is open in $(Y, d_Y)$ : $\\forall B(y, r) \\exists U (\\text{open}) \\subset X : f(U) \\subset B(y, r)$. But since $U$ is open $\\exists B(c, l) \\subset U$ and thus $f(B(c, l)) \\subset f(U) \\subset B(y, r)$\n",
    "\n",
    "###### (def. 2) $\\Rightarrow$ (def. 1):\n",
    "\n",
    "GIven $V \\subset Y$, such that $y \\in V$ and $V$ is open, $\\exists B(y, r) \\subset V$. By (def. 2) we have $B(c, l) \\subset X$ such that $f(B(c, l)) \\subset B(y, r)$, but since $B(c, l)$ is an open set, that satisfied (def. 1).\n",
    "\n",
    "###### (def. 2) $\\Leftrightarrow$ (def. 3):\n",
    "\n",
    "$\\forall x \\in S : d_X(x, c) < l \\Rightarrow D_Y(f(x), y) < r$ is the same as $f(B(c, l) \\subset B(y, r)$\n",
    "\n",
    "\n"
   ]
  },
  {
   "cell_type": "markdown",
   "metadata": {},
   "source": [
    "## Continuous functions "
   ]
  },
  {
   "cell_type": "markdown",
   "metadata": {},
   "source": [
    "#### Prove that function is continuous in $c$ if for any sequence $(x_n)_{n=1}^{\\infty} \\subset X$ such that $\\lim_{n \\to \\infty}x_n = c$ we have $\\lim_{n \\to \\infty}f(x_n) = f(c)$"
   ]
  },
  {
   "cell_type": "markdown",
   "metadata": {},
   "source": [
    "##### Proof:\n",
    "\n",
    "Assume otherwise that $f^{-1}(B(f(c), r)$ contains no open ball around $c$. Then $\\forall n : \\exists x_n : (d(x_n - x) < 1/n) \\wedge (x_n \\notin f^{-1}(B(f(c), r))$. Then $x_n \\rightarrow c$, but we have previously shown that if $\\forall f(x_n) \\in \\overline{f^{-1}(B(f(c), r))}$ and $\\overline{f^{-1}(B(f(c), r))}$ is closed, the $\\lim_{n\\rightarrow\\infty}f(x_n) = f(c)$ is also in $\\overline{f^{-1}(B(f(c), r))}$. Thus $f(c) \\notin f^{-1}(B(f(c), r))$ which is a contradiction."
   ]
  },
  {
   "cell_type": "markdown",
   "metadata": {},
   "source": [
    "#### Prove that function is continuous if for every open set $V \\subset Y$ the $f^{-1}(V)$ is open in $X$"
   ]
  },
  {
   "cell_type": "markdown",
   "metadata": {},
   "source": [
    "##### Proof:\n",
    "\n",
    "If $f^{-1}(V)$ is open $\\forall c \\in f^{-1}(V) \\exists B(c, r) : B(c, r) \\subset f^{-1}(V) \\Rightarrow f(B(c, r)) \\subset V$ and $B(c, r) is open. "
   ]
  },
  {
   "cell_type": "markdown",
   "metadata": {},
   "source": [
    "#### Prove that function is continuous if for every closed set $F \\subset Y$ the $f^{-1}(F)$ is closed in $X$"
   ]
  },
  {
   "cell_type": "markdown",
   "metadata": {},
   "source": [
    "##### Proof:\n",
    "\n",
    "$f^{-1}(\\overline{F}) = \\overline{f^{-1}(F)}$, Thus if this holds, then the previous statement also holds."
   ]
  },
  {
   "cell_type": "markdown",
   "metadata": {},
   "source": [
    "#### Prove that any composition of continous functions is continous"
   ]
  },
  {
   "cell_type": "markdown",
   "metadata": {},
   "source": [
    "##### Proof:\n",
    "\n",
    "We can use the previous property of continuous functions. If $f^{-1}(F)$ is closed for every closed $F$ and $g^{-1}(G)$ is closed for every closed $G$, then $(f \\circ g)^{-1}(F) = (g^{-1} \\circ f^{-1})(F) = g^{-1}(f^{-1}(F))$ is also closed."
   ]
  }
 ],
 "metadata": {
  "kernelspec": {
   "display_name": "Python 3",
   "language": "python",
   "name": "python3"
  },
  "language_info": {
   "codemirror_mode": {
    "name": "ipython",
    "version": 3
   },
   "file_extension": ".py",
   "mimetype": "text/x-python",
   "name": "python",
   "nbconvert_exporter": "python",
   "pygments_lexer": "ipython3",
   "version": "3.6.8"
  }
 },
 "nbformat": 4,
 "nbformat_minor": 4
}
