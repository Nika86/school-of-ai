{
 "cells": [
  {
   "cell_type": "markdown",
   "metadata": {},
   "source": [
    "# Linear spaces"
   ]
  },
  {
   "cell_type": "markdown",
   "metadata": {},
   "source": [
    "#### Prove that:\n",
    "For every linear function $f:V \\to U$ between vector spaces $V$ and $U$ on the real numbers, every sequence of vectors $v_1, v_2, \\dots v_m \\in V$ and every scalars $a_1, a_2, \\dots, a_m \\in \\mathbb{R}$:\n",
    "<br>\n",
    "$$f(a_1v_1 + a_2v_2 + \\dots + a_mv_m) = a_1f(v_1) + a_2f(v_2) + \\dots + a_mf(v_m)$$"
   ]
  },
  {
   "cell_type": "markdown",
   "metadata": {},
   "source": [
    "##### Proof:\n",
    "\n",
    "By induction on m\n",
    "\n",
    "base case:\n",
    "\n",
    "$f(a_1 v_1) = a_1 f(v_1)$ (by definition of linearity of $f$)\n",
    "\n",
    "inductive step:\n",
    "\n",
    "$f(a_1 v_1 + s_2 v_2 + \\dots + a_{m+1} v_{m+1}) = f(a_1 v_1 + \\dots + a_m v_m) + f(a_{m+1} v_{m+1})$ (by linearity of $f$)\n",
    "\n",
    "$f(a_1 v_1 + \\dots + a_m v_m) = a_1 f(v_1) + \\dots + a_m f(v_m)$ (by inductive hypothesis)\n",
    "\n",
    "Thus $f(a_1 v_1 + \\dots + a_{m+1} v_{m+1}) = a_1 f(v_1) + \\dots + a_m f(v_m) + f(a_{m+1} v_{m+1}) = a_1 f(v_1) + \\dots + a_m f(v_m) + a_{m+1} f(v_{m+1})$ Q.E.D."
   ]
  }
 ],
 "metadata": {
  "kernelspec": {
   "display_name": "Python 3",
   "language": "python",
   "name": "python3"
  },
  "language_info": {
   "codemirror_mode": {
    "name": "ipython",
    "version": 3
   },
   "file_extension": ".py",
   "mimetype": "text/x-python",
   "name": "python",
   "nbconvert_exporter": "python",
   "pygments_lexer": "ipython3",
   "version": "3.6.8"
  }
 },
 "nbformat": 4,
 "nbformat_minor": 4
}
