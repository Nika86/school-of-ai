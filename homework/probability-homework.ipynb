{
 "cells": [
  {
   "cell_type": "markdown",
   "metadata": {},
   "source": [
    "# Sigma-algebras"
   ]
  },
  {
   "cell_type": "markdown",
   "metadata": {},
   "source": [
    "#### Prove that:\n",
    "Composition of mesurable functions is a mesurable function"
   ]
  },
  {
   "cell_type": "markdown",
   "metadata": {},
   "source": [
    "##### Proof:\n",
    "$(g \\circ f) (A) = g ( f (A) )$\n",
    "\n",
    "$A$ is measurable and $f$ is measurable $\\Rightarrow$ $f(A)$ is measurable\n",
    "\n",
    "$f(A)$ is measurable and $g$ is measurable $\\Rightarrow$ $g(f(A))$ is measurable $\\Leftrightarrow$ $(g \\circ f) (A)$ is measurable\n"
   ]
  },
  {
   "cell_type": "markdown",
   "metadata": {},
   "source": [
    "## Mesure"
   ]
  },
  {
   "cell_type": "markdown",
   "metadata": {},
   "source": [
    "#### Prove the following mesure propertiey:\n",
    "if $A \\subset B$ then $\\mu(A) \\le \\mu(B)$"
   ]
  },
  {
   "cell_type": "markdown",
   "metadata": {},
   "source": [
    "##### Proof:\n",
    "$B = (A \\cap B) \\cup (B - A)$ and those 2 are disjoint, so $\\mu(B) = \\mu(A) + \\mu(B - A)$ and $\\mu(B - A) \\ge 0$\n",
    "\n",
    "Thus $\\mu(B) = \\mu(A \\cap B) + \\mu(B - A) \\ge \\mu (A \\cap B) + 0 = \\mu (A \\cap B)$\n",
    "\n",
    "$A \\subset B \\Rightarrow A \\cap B = A$, So $\\mu(B) \\ge \\mu(A \\cap B) = \\mu(A)$"
   ]
  },
  {
   "cell_type": "markdown",
   "metadata": {},
   "source": [
    "## Probability"
   ]
  },
  {
   "cell_type": "markdown",
   "metadata": {},
   "source": [
    "#### Prove that:\n",
    "For probability mesure $P$ and events $A, B \\subset \\Omega$\n",
    "- $P(A \\cup B) = P(A) + P(B) - P(A \\cap B)$\n",
    "<br>"
   ]
  },
  {
   "cell_type": "markdown",
   "metadata": {},
   "source": [
    "##### Proof:\n",
    "$A \\cup B = (A - B) \\cup (B - A) \\cup (A \\cap B)$ and those 3 sets are disjoint, so $P(A) = P(A - B) + P(B - A) + P(A \\cap B)$\n",
    "\n",
    "$A = (A - B) \\cup (A \\cap B)$ and those 2 sets are disjoint, so $P(A) = P(A - B) + P(A \\cap B)$\n",
    "\n",
    "$B = (B - A) \\cup (A \\cap B)$ and those 2 sets are disjoint, so $P(B) = P(B - A) + P(A \\cap B)$\n",
    "\n",
    "$P(A \\cup B) = P(A - B) + P(B - A) + P(A \\cap B) = \\\\ = (P(A) - P(A \\cap B)) + (P(B) - P(B - A)) + P(A \\cap B) = P(A) + P(B) - P(A \\cap B)$"
   ]
  },
  {
   "cell_type": "markdown",
   "metadata": {},
   "source": [
    "## Random variable"
   ]
  },
  {
   "cell_type": "markdown",
   "metadata": {},
   "source": [
    "#### Prove that:\n",
    "$$\n",
    "\\sigma^2 = \\operatorname{E}[X^2] - (\\operatorname{E}[X])^2\n",
    "$$\n",
    "Assuming that expectation exists\n",
    "<br>\n",
    "Denoted by $\\sigma^2$\n",
    "<br>"
   ]
  },
  {
   "cell_type": "markdown",
   "metadata": {},
   "source": [
    "##### Proof:\n",
    "$\n",
    "\\sigma^2 = \\operatorname{E}[(X - \\operatorname{E}[X])^2] = \\operatorname{E}[X^2 - 2 X \\operatorname{E}[X] + \\operatorname{E}[X]^2] = \\operatorname{E}[X^2] - 2 \\operatorname{E}[X] \\operatorname{E}[X] + \\operatorname{E}[X]^2 = \\\\ = \\operatorname{E}[X^2] - 2 \\operatorname{E}[X]^2 + \\operatorname{E}[X]^2 = \\operatorname{E}[X^2] - \\operatorname{E}[X]^2\n",
    "$"
   ]
  }
 ],
 "metadata": {
  "kernelspec": {
   "display_name": "Python 3",
   "language": "python",
   "name": "python3"
  },
  "language_info": {
   "codemirror_mode": {
    "name": "ipython",
    "version": 3
   },
   "file_extension": ".py",
   "mimetype": "text/x-python",
   "name": "python",
   "nbconvert_exporter": "python",
   "pygments_lexer": "ipython3",
   "version": "3.6.8"
  }
 },
 "nbformat": 4,
 "nbformat_minor": 4
}
